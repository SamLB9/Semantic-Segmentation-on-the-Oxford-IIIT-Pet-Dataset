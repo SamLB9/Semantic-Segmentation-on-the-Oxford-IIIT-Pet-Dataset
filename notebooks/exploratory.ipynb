{
 "cells": [
  {
   "cell_type": "code",
   "execution_count": 10,
   "metadata": {},
   "outputs": [
    {
     "name": "stdout",
     "output_type": "stream",
     "text": [
      "Collecting opencv-python-headless\n",
      "  Downloading opencv_python_headless-4.11.0.86-cp37-abi3-macosx_13_0_arm64.whl.metadata (20 kB)\n",
      "Requirement already satisfied: numpy>=1.21.2 in /Users/jakedugan/miniconda3/envs/mlp/lib/python3.12/site-packages (from opencv-python-headless) (2.1.3)\n",
      "Downloading opencv_python_headless-4.11.0.86-cp37-abi3-macosx_13_0_arm64.whl (37.3 MB)\n",
      "\u001b[2K   \u001b[90m━━━━━━━━━━━━━━━━━━━━━━━━━━━━━━━━━━━━━━━━\u001b[0m \u001b[32m37.3/37.3 MB\u001b[0m \u001b[31m24.3 MB/s\u001b[0m eta \u001b[36m0:00:00\u001b[0ma \u001b[36m0:00:01\u001b[0m\n",
      "\u001b[?25hInstalling collected packages: opencv-python-headless\n",
      "Successfully installed opencv-python-headless-4.11.0.86\n",
      "Note: you may need to restart the kernel to use updated packages.\n"
     ]
    },
    {
     "ename": "FileNotFoundError",
     "evalue": "[Errno 2] No such file or directory: '/Users/jakedugan/Documents/UniversityofEdinburgh/CV/cw1/CV-CW1/notebooks/example.jpg'",
     "output_type": "error",
     "traceback": [
      "\u001b[0;31m---------------------------------------------------------------------------\u001b[0m",
      "\u001b[0;31mFileNotFoundError\u001b[0m                         Traceback (most recent call last)",
      "Cell \u001b[0;32mIn[10], line 74\u001b[0m\n\u001b[1;32m     72\u001b[0m \u001b[38;5;28;01mif\u001b[39;00m \u001b[38;5;18m__name__\u001b[39m \u001b[38;5;241m==\u001b[39m \u001b[38;5;124m\"\u001b[39m\u001b[38;5;124m__main__\u001b[39m\u001b[38;5;124m\"\u001b[39m:\n\u001b[1;32m     73\u001b[0m     transform \u001b[38;5;241m=\u001b[39m ResizeWithPadding(target_size\u001b[38;5;241m=\u001b[39m\u001b[38;5;241m224\u001b[39m, padding_mode\u001b[38;5;241m=\u001b[39m\u001b[38;5;124m'\u001b[39m\u001b[38;5;124mhybrid\u001b[39m\u001b[38;5;124m'\u001b[39m, force_resize\u001b[38;5;241m=\u001b[39m\u001b[38;5;28;01mTrue\u001b[39;00m, resize_dims\u001b[38;5;241m=\u001b[39m(\u001b[38;5;241m128\u001b[39m, \u001b[38;5;241m128\u001b[39m))  \u001b[38;5;66;03m# Choose settings\u001b[39;00m\n\u001b[0;32m---> 74\u001b[0m     img \u001b[38;5;241m=\u001b[39m \u001b[43mImage\u001b[49m\u001b[38;5;241;43m.\u001b[39;49m\u001b[43mopen\u001b[49m\u001b[43m(\u001b[49m\u001b[38;5;124;43m\"\u001b[39;49m\u001b[38;5;124;43mexample.jpg\u001b[39;49m\u001b[38;5;124;43m\"\u001b[39;49m\u001b[43m)\u001b[49m\u001b[38;5;241m.\u001b[39mconvert(\u001b[38;5;124m\"\u001b[39m\u001b[38;5;124mRGB\u001b[39m\u001b[38;5;124m\"\u001b[39m)  \u001b[38;5;66;03m# Load an example image\u001b[39;00m\n\u001b[1;32m     75\u001b[0m     transformed_img \u001b[38;5;241m=\u001b[39m transform(img)\n\u001b[1;32m     76\u001b[0m     transformed_img\u001b[38;5;241m.\u001b[39mshow()  \u001b[38;5;66;03m# Display the transformed image\u001b[39;00m\n",
      "File \u001b[0;32m~/miniconda3/envs/mlp/lib/python3.12/site-packages/PIL/Image.py:3469\u001b[0m, in \u001b[0;36mopen\u001b[0;34m(fp, mode, formats)\u001b[0m\n\u001b[1;32m   3466\u001b[0m     filename \u001b[38;5;241m=\u001b[39m os\u001b[38;5;241m.\u001b[39mpath\u001b[38;5;241m.\u001b[39mrealpath(os\u001b[38;5;241m.\u001b[39mfspath(fp))\n\u001b[1;32m   3468\u001b[0m \u001b[38;5;28;01mif\u001b[39;00m filename:\n\u001b[0;32m-> 3469\u001b[0m     fp \u001b[38;5;241m=\u001b[39m \u001b[43mbuiltins\u001b[49m\u001b[38;5;241;43m.\u001b[39;49m\u001b[43mopen\u001b[49m\u001b[43m(\u001b[49m\u001b[43mfilename\u001b[49m\u001b[43m,\u001b[49m\u001b[43m \u001b[49m\u001b[38;5;124;43m\"\u001b[39;49m\u001b[38;5;124;43mrb\u001b[39;49m\u001b[38;5;124;43m\"\u001b[39;49m\u001b[43m)\u001b[49m\n\u001b[1;32m   3470\u001b[0m     exclusive_fp \u001b[38;5;241m=\u001b[39m \u001b[38;5;28;01mTrue\u001b[39;00m\n\u001b[1;32m   3471\u001b[0m \u001b[38;5;28;01melse\u001b[39;00m:\n",
      "\u001b[0;31mFileNotFoundError\u001b[0m: [Errno 2] No such file or directory: '/Users/jakedugan/Documents/UniversityofEdinburgh/CV/cw1/CV-CW1/notebooks/example.jpg'"
     ]
    }
   ],
   "source": [
    "import torch\n",
    "import torchvision.transforms as transforms\n",
    "import numpy as np\n",
    "%pip install opencv-python-headless\n",
    "import cv2\n",
    "from PIL import Image\n",
    "\n",
    "class ResizeWithPadding:\n",
    "    def __init__(self, target_size=224, padding_mode='hybrid', force_resize=False, resize_dims=(128, 128)):\n",
    "        \"\"\"\n",
    "        Resize and pad an image while maintaining its aspect ratio.\n",
    "\n",
    "        Parameters:\n",
    "        - target_size (int): The desired size of the output square image (e.g., 224, 256).\n",
    "        - padding_mode (str): Padding type ('mean' for mean pixel padding, 'reflect' for reflection padding, 'hybrid' for both).\n",
    "        - force_resize (bool): If True, resizes shorter side to `resize_dims[0]` while maintaining aspect ratio, then pads to `resize_dims`.\n",
    "        - resize_dims (tuple): The final dimensions to resize/pad to when `force_resize` is enabled.\n",
    "        \"\"\"\n",
    "        self.target_size = target_size\n",
    "        self.force_resize = force_resize\n",
    "        self.resize_dims = resize_dims\n",
    "        assert padding_mode in ['mean', 'reflect', 'hybrid'], \"Padding mode must be 'mean', 'reflect', or 'hybrid'\"\n",
    "        self.padding_mode = padding_mode\n",
    "    \n",
    "    def resize_image(self, image):\n",
    "        \"\"\"Resize the shorter side of the image to match resize_dims[0] while maintaining aspect ratio.\"\"\"\n",
    "        if self.force_resize:\n",
    "            h, w = image.shape[:2]\n",
    "            scale = self.resize_dims[0] / min(h, w)\n",
    "            new_w, new_h = int(w * scale), int(h * scale)\n",
    "            resized_image = cv2.resize(image, (new_w, new_h), interpolation=cv2.INTER_LINEAR)\n",
    "            return resized_image\n",
    "        \n",
    "        h, w = image.shape[:2]\n",
    "        scale = self.target_size / min(h, w)\n",
    "        new_w, new_h = int(w * scale), int(h * scale)\n",
    "        resized_image = cv2.resize(image, (new_w, new_h), interpolation=cv2.INTER_LINEAR)\n",
    "        return resized_image\n",
    "\n",
    "    def pad_image(self, image):\n",
    "        \"\"\"Pad the image to make it square using the selected padding method.\"\"\"\n",
    "        h, w = image.shape[:2]\n",
    "        target_h, target_w = self.resize_dims if self.force_resize else (self.target_size, self.target_size)\n",
    "        delta_w = target_w - w\n",
    "        delta_h = target_h - h\n",
    "        top, bottom = delta_h // 2, delta_h - (delta_h // 2)\n",
    "        left, right = delta_w // 2, delta_w - (delta_w // 2)\n",
    "        \n",
    "        if self.padding_mode == 'mean':\n",
    "            mean_pixel = np.mean(image, axis=(0, 1), dtype=int)  # Compute mean pixel per channel\n",
    "            padded_image = cv2.copyMakeBorder(image, top, bottom, left, right, cv2.BORDER_CONSTANT, value=mean_pixel.tolist())\n",
    "        elif self.padding_mode == 'reflect':\n",
    "            padded_image = cv2.copyMakeBorder(image, top, bottom, left, right, cv2.BORDER_REFLECT)\n",
    "        else:  # 'hybrid'\n",
    "            # Apply reflection padding first\n",
    "            reflected_image = cv2.copyMakeBorder(image, top, bottom, left, right, cv2.BORDER_REFLECT)\n",
    "            \n",
    "            # Compute mean pixel and apply mean padding only if necessary\n",
    "            mean_pixel = np.mean(image, axis=(0, 1), dtype=int)\n",
    "            padded_image = cv2.copyMakeBorder(reflected_image, top, bottom, left, right, cv2.BORDER_CONSTANT, value=mean_pixel.tolist())\n",
    "        \n",
    "        return padded_image\n",
    "    \n",
    "    def __call__(self, img):\n",
    "        \"\"\"Apply resizing and padding transformation to an image.\"\"\"\n",
    "        img = np.array(img)  # Convert PIL image to NumPy array\n",
    "        resized_img = self.resize_image(img)\n",
    "        padded_img = self.pad_image(resized_img)\n",
    "        return Image.fromarray(padded_img)  # Convert back to PIL image\n",
    "\n",
    "# Example usage\n",
    "if __name__ == \"__main__\":\n",
    "    transform = ResizeWithPadding(target_size=224, padding_mode='hybrid', force_resize=True, resize_dims=(128, 128))  # Choose settings\n",
    "    img = Image.open(\"example.jpg\").convert(\"RGB\")  # Load an example image\n",
    "    transformed_img = transform(img)\n",
    "    transformed_img.show()  # Display the transformed image\n"
   ]
  },
  {
   "cell_type": "code",
   "execution_count": null,
   "metadata": {},
   "outputs": [
    {
     "name": "stdout",
     "output_type": "stream",
     "text": [
      "\u001b[31mERROR: Could not find a version that satisfies the requirement resize-padding (from versions: none)\u001b[0m\u001b[31m\n",
      "\u001b[0m\u001b[31mERROR: No matching distribution found for resize-padding\u001b[0m\u001b[31m\n",
      "\u001b[0mNote: you may need to restart the kernel to use updated packages.\n"
     ]
    },
    {
     "ename": "ModuleNotFoundError",
     "evalue": "No module named 'resize_padding'",
     "output_type": "error",
     "traceback": [
      "\u001b[0;31m---------------------------------------------------------------------------\u001b[0m",
      "\u001b[0;31mModuleNotFoundError\u001b[0m                       Traceback (most recent call last)",
      "Cell \u001b[0;32mIn[6], line 3\u001b[0m\n\u001b[1;32m      1\u001b[0m get_ipython()\u001b[38;5;241m.\u001b[39mrun_line_magic(\u001b[38;5;124m'\u001b[39m\u001b[38;5;124mpip\u001b[39m\u001b[38;5;124m'\u001b[39m, \u001b[38;5;124m'\u001b[39m\u001b[38;5;124minstall resize-padding\u001b[39m\u001b[38;5;124m'\u001b[39m)\n\u001b[1;32m      2\u001b[0m \u001b[38;5;28;01mfrom\u001b[39;00m \u001b[38;5;21;01mPIL\u001b[39;00m \u001b[38;5;28;01mimport\u001b[39;00m Image\n\u001b[0;32m----> 3\u001b[0m \u001b[38;5;28;01mfrom\u001b[39;00m \u001b[38;5;21;01mresize_padding\u001b[39;00m \u001b[38;5;28;01mimport\u001b[39;00m ResizeWithPadding\n\u001b[1;32m      5\u001b[0m \u001b[38;5;66;03m# Initialize transform\u001b[39;00m\n\u001b[1;32m      6\u001b[0m transform \u001b[38;5;241m=\u001b[39m ResizeWithPadding(target_size\u001b[38;5;241m=\u001b[39m\u001b[38;5;241m224\u001b[39m, padding_mode\u001b[38;5;241m=\u001b[39m\u001b[38;5;124m'\u001b[39m\u001b[38;5;124mhybrid\u001b[39m\u001b[38;5;124m'\u001b[39m, force_resize\u001b[38;5;241m=\u001b[39m\u001b[38;5;28;01mTrue\u001b[39;00m, resize_dims\u001b[38;5;241m=\u001b[39m(\u001b[38;5;241m128\u001b[39m, \u001b[38;5;241m128\u001b[39m))\n",
      "\u001b[0;31mModuleNotFoundError\u001b[0m: No module named 'resize_padding'"
     ]
    }
   ],
   "source": [
    "from PIL import Image\n",
    "from resize_padding import ResizeWithPadding\n",
    "\n",
    "# Initialize transform\n",
    "transform = ResizeWithPadding(target_size=224, padding_mode='hybrid', force_resize=True, resize_dims=(128, 128))\n",
    "\n",
    "# Load and process an image\n",
    "img = Image.open(\"example.jpg\").convert(\"RGB\")\n",
    "transformed_img = transform(img)\n",
    "\n",
    "# Save or display\n",
    "transformed_img.show()  # Show image\n",
    "transformed_img.save(\"processed_example.jpg\")  # Save output"
   ]
  }
 ],
 "metadata": {
  "kernelspec": {
   "display_name": "Python (your_env_name)",
   "language": "python",
   "name": "your_env_name"
  },
  "language_info": {
   "codemirror_mode": {
    "name": "ipython",
    "version": 3
   },
   "file_extension": ".py",
   "mimetype": "text/x-python",
   "name": "python",
   "nbconvert_exporter": "python",
   "pygments_lexer": "ipython3",
   "version": "3.12.5"
  }
 },
 "nbformat": 4,
 "nbformat_minor": 2
}
