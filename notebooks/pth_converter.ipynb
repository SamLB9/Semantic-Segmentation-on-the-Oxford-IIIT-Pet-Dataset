{
 "cells": [
  {
   "cell_type": "code",
   "execution_count": 2,
   "metadata": {},
   "outputs": [
    {
     "name": "stdout",
     "output_type": "stream",
     "text": [
      "Model saved as plain text in /Users/jakedugan/Documents/UniversityofEdinburgh/CV/cw1/CV-CW1/results/models/clip_pointseg_samlike_3.txt\n"
     ]
    }
   ],
   "source": [
    "import torch\n",
    "\n",
    "model_path = \"/Users/jakedugan/Documents/UniversityofEdinburgh/CV/cw1/CV-CW1/results/models/clip_pointseg_samlike_3.pth\"\n",
    "output_txt_path = \"/Users/jakedugan/Documents/UniversityofEdinburgh/CV/cw1/CV-CW1/results/models/clip_pointseg_samlike_3.txt\"\n",
    "\n",
    "# Load the model state dictionary\n",
    "model_data = torch.load(model_path, map_location=\"cpu\")\n",
    "\n",
    "with open(output_txt_path, \"w\") as f:\n",
    "    for key, value in model_data.items():\n",
    "        f.write(f\"Layer: {key}\\n\")\n",
    "        f.write(str(value) + \"\\n\\n\")\n",
    "\n",
    "print(f\"Model saved as plain text in {output_txt_path}\")"
   ]
  }
 ],
 "metadata": {
  "kernelspec": {
   "display_name": "Python mlp",
   "language": "python",
   "name": "mlp"
  },
  "language_info": {
   "codemirror_mode": {
    "name": "ipython",
    "version": 3
   },
   "file_extension": ".py",
   "mimetype": "text/x-python",
   "name": "python",
   "nbconvert_exporter": "python",
   "pygments_lexer": "ipython3",
   "version": "3.12.5"
  }
 },
 "nbformat": 4,
 "nbformat_minor": 2
}
